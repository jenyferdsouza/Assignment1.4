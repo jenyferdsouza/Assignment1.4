{
 "cells": [
  {
   "cell_type": "code",
   "execution_count": null,
   "metadata": {
    "collapsed": true
   },
   "outputs": [],
   "source": [
    "#Problem Statement\n",
    "\n",
    "#Write a Python program to find the volume of a sphere with diameter 12 cm.\n",
    "#Formula: V=4/3 * π * r3\n"
   ]
  },
  {
   "cell_type": "code",
   "execution_count": 1,
   "metadata": {},
   "outputs": [
    {
     "name": "stdout",
     "output_type": "stream",
     "text": [
      "Volume of the Sphere of diameter 12 cm is 904.78 cm3\n"
     ]
    }
   ],
   "source": [
    "#Program to find the Volume of the Sphere \n",
    "diameter=12\n",
    "radius=diameter/2\n",
    "pi=3.14159\n",
    "\n",
    "Volume=round(((4/3)*(pi)*(radius**3)),2)\n",
    "\n",
    "print(\"Volume of the Sphere of diameter\",diameter,\"cm is\",Volume,\"cm3\")"
   ]
  }
 ],
 "metadata": {
  "kernelspec": {
   "display_name": "Python 3",
   "language": "python",
   "name": "python3"
  },
  "language_info": {
   "codemirror_mode": {
    "name": "ipython",
    "version": 3
   },
   "file_extension": ".py",
   "mimetype": "text/x-python",
   "name": "python",
   "nbconvert_exporter": "python",
   "pygments_lexer": "ipython3",
   "version": "3.6.3"
  }
 },
 "nbformat": 4,
 "nbformat_minor": 2
}
